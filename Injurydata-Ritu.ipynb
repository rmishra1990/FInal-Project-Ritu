{
 "cells": [
  {
   "cell_type": "code",
   "execution_count": 16,
   "metadata": {},
   "outputs": [],
   "source": [
    "import pandas as pd "
   ]
  },
  {
   "cell_type": "code",
   "execution_count": 17,
   "metadata": {},
   "outputs": [],
   "source": [
    "bball_df = pd.read_csv(\"DataFrames/injuries.csv\")"
   ]
  },
  {
   "cell_type": "code",
   "execution_count": 18,
   "metadata": {},
   "outputs": [
    {
     "data": {
      "text/html": [
       "<div>\n",
       "<style scoped>\n",
       "    .dataframe tbody tr th:only-of-type {\n",
       "        vertical-align: middle;\n",
       "    }\n",
       "\n",
       "    .dataframe tbody tr th {\n",
       "        vertical-align: top;\n",
       "    }\n",
       "\n",
       "    .dataframe thead th {\n",
       "        text-align: right;\n",
       "    }\n",
       "</style>\n",
       "<table border=\"1\" class=\"dataframe\">\n",
       "  <thead>\n",
       "    <tr style=\"text-align: right;\">\n",
       "      <th></th>\n",
       "      <th>Date</th>\n",
       "      <th>Team</th>\n",
       "      <th>Acquired</th>\n",
       "      <th>Relinquised</th>\n",
       "      <th>Notes</th>\n",
       "    </tr>\n",
       "  </thead>\n",
       "  <tbody>\n",
       "    <tr>\n",
       "      <th>0</th>\n",
       "      <td>2010-10-03</td>\n",
       "      <td>Bulls</td>\n",
       "      <td>NaN</td>\n",
       "      <td>Carlos Boozer</td>\n",
       "      <td>fractured bone in right pinky finger (out inde...</td>\n",
       "    </tr>\n",
       "    <tr>\n",
       "      <th>1</th>\n",
       "      <td>2010-10-06</td>\n",
       "      <td>Pistons</td>\n",
       "      <td>NaN</td>\n",
       "      <td>Jonas Jerebko</td>\n",
       "      <td>torn right Acchilles tendon (out indefinitely)</td>\n",
       "    </tr>\n",
       "    <tr>\n",
       "      <th>2</th>\n",
       "      <td>2010-10-06</td>\n",
       "      <td>Pistons</td>\n",
       "      <td>NaN</td>\n",
       "      <td>Terrico White</td>\n",
       "      <td>broken fifth metatarsal in right foot (out ind...</td>\n",
       "    </tr>\n",
       "    <tr>\n",
       "      <th>3</th>\n",
       "      <td>2010-10-08</td>\n",
       "      <td>Blazers</td>\n",
       "      <td>NaN</td>\n",
       "      <td>Jeff Pendergraph / Jeff Ayres</td>\n",
       "      <td>torn ACL in right knee (out indefinitely)</td>\n",
       "    </tr>\n",
       "    <tr>\n",
       "      <th>4</th>\n",
       "      <td>2010-10-08</td>\n",
       "      <td>Nets</td>\n",
       "      <td>NaN</td>\n",
       "      <td>Troy Murphy</td>\n",
       "      <td>strained lower back (out indefinitely)</td>\n",
       "    </tr>\n",
       "  </tbody>\n",
       "</table>\n",
       "</div>"
      ],
      "text/plain": [
       "         Date     Team Acquired                    Relinquised  \\\n",
       "0  2010-10-03    Bulls      NaN                  Carlos Boozer   \n",
       "1  2010-10-06  Pistons      NaN                  Jonas Jerebko   \n",
       "2  2010-10-06  Pistons      NaN                  Terrico White   \n",
       "3  2010-10-08  Blazers      NaN  Jeff Pendergraph / Jeff Ayres   \n",
       "4  2010-10-08     Nets      NaN                    Troy Murphy   \n",
       "\n",
       "                                               Notes  \n",
       "0  fractured bone in right pinky finger (out inde...  \n",
       "1     torn right Acchilles tendon (out indefinitely)  \n",
       "2  broken fifth metatarsal in right foot (out ind...  \n",
       "3          torn ACL in right knee (out indefinitely)  \n",
       "4             strained lower back (out indefinitely)  "
      ]
     },
     "execution_count": 18,
     "metadata": {},
     "output_type": "execute_result"
    }
   ],
   "source": [
    "bball_df.head()"
   ]
  },
  {
   "cell_type": "code",
   "execution_count": null,
   "metadata": {},
   "outputs": [],
   "source": [
    "# URL to scrape the data\n"
   ]
  },
  {
   "cell_type": "code",
   "execution_count": null,
   "metadata": {},
   "outputs": [],
   "source": []
  },
  {
   "cell_type": "code",
   "execution_count": null,
   "metadata": {},
   "outputs": [],
   "source": []
  },
  {
   "cell_type": "code",
   "execution_count": null,
   "metadata": {},
   "outputs": [],
   "source": []
  },
  {
   "cell_type": "code",
   "execution_count": null,
   "metadata": {},
   "outputs": [],
   "source": []
  },
  {
   "cell_type": "code",
   "execution_count": null,
   "metadata": {},
   "outputs": [],
   "source": []
  },
  {
   "cell_type": "code",
   "execution_count": null,
   "metadata": {},
   "outputs": [],
   "source": []
  },
  {
   "cell_type": "code",
   "execution_count": null,
   "metadata": {},
   "outputs": [],
   "source": []
  },
  {
   "cell_type": "code",
   "execution_count": null,
   "metadata": {},
   "outputs": [],
   "source": []
  }
 ],
 "metadata": {
  "kernelspec": {
   "display_name": "Python 3",
   "language": "python",
   "name": "python3"
  },
  "language_info": {
   "codemirror_mode": {
    "name": "ipython",
    "version": 3
   },
   "file_extension": ".py",
   "mimetype": "text/x-python",
   "name": "python",
   "nbconvert_exporter": "python",
   "pygments_lexer": "ipython3",
   "version": "3.7.1"
  }
 },
 "nbformat": 4,
 "nbformat_minor": 2
}
